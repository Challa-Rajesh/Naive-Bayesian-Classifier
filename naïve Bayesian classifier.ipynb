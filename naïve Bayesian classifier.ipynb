{
 "cells": [
  {
   "cell_type": "code",
   "execution_count": null,
   "metadata": {},
   "outputs": [],
   "source": [
    "Q2. Write a program to implement the naïve Bayesian classifier for a sample training data set stored as a .CSV file.\n",
    " Compute the accuracy of the classifier, considering few test data sets."
   ]
  },
  {
   "cell_type": "code",
   "execution_count": null,
   "metadata": {},
   "outputs": [],
   "source": []
  },
  {
   "cell_type": "code",
   "execution_count": 1,
   "metadata": {},
   "outputs": [],
   "source": [
    "import pandas as pd\n",
    "from sklearn.model_selection import train_test_split\n",
    "from sklearn.naive_bayes import GaussianNB\n",
    "from sklearn.metrics import accuracy_score"
   ]
  },
  {
   "cell_type": "code",
   "execution_count": 2,
   "metadata": {},
   "outputs": [
    {
     "name": "stdout",
     "output_type": "stream",
     "text": [
      "Accuracy percentage of the Naive Bayes classifier: 92.96%\n"
     ]
    }
   ],
   "source": [
    "# Load the dataset from a specific file path\n",
    "data = pd.read_csv(r\"Naive-Bayes-Classification-Data.csv\")\n",
    "\n",
    "# Separate features and target\n",
    "X = data[['glucose', 'bloodpressure']]  # Features\n",
    "y = data['diabetes']                    # Target\n",
    "\n",
    "# Split the data into training and test sets\n",
    "X_train, X_test, y_train, y_test = train_test_split(X, y, test_size=0.2, random_state=42)\n",
    "\n",
    "# Create the Naive Bayes classifier and train it\n",
    "classifier = GaussianNB()\n",
    "classifier.fit(X_train, y_train)\n",
    "\n",
    "# Predict on the test set and calculate accuracy\n",
    "y_pred = classifier.predict(X_test)\n",
    "accuracy = accuracy_score(y_test, y_pred)\n",
    "print(f\"Accuracy percentage of the Naive Bayes classifier: {accuracy * 100:.2f}%\")"
   ]
  },
  {
   "cell_type": "code",
   "execution_count": 11,
   "metadata": {},
   "outputs": [
    {
     "name": "stdout",
     "output_type": "stream",
     "text": [
      "\n",
      "Prediction 1:\n",
      "The value of Glucose is :  45.0\n",
      "The value of Blood Pressure is :  78.0\n",
      "Prediction: Diabetes detected\n",
      "\n",
      "Prediction 2:\n",
      "The value of Glucose is :  34.0\n",
      "The value of Blood Pressure is :  89.0\n",
      "Prediction: No diabetes detected\n",
      "\n",
      "Prediction 3:\n",
      "Please enter valid numeric values for glucose and blood pressure.\n"
     ]
    }
   ],
   "source": [
    "# Take user input for glucose and blood pressure, and predict diabetes\n",
    "try:\n",
    "    n = int(input(\"Enter the number of predictions you want to make: \"))\n",
    "\n",
    "    for i in range(n):\n",
    "        print(f\"\\nPrediction {i + 1}:\")\n",
    "\n",
    "        # Take input for glucose and blood pressure levels\n",
    "        try:\n",
    "            glucose = float(input(\"Enter glucose level: \"))\n",
    "            bloodpressure = float(input(\"Enter blood pressure level: \"))\n",
    "\n",
    "            print(\"The value of Glucose is : \", glucose)\n",
    "            print(\"The value of Blood Pressure is : \", bloodpressure)\n",
    "\n",
    "            # Prepare input data as a DataFrame with appropriate column names\n",
    "            input_data = pd.DataFrame([[glucose, bloodpressure]], columns=['glucose', 'bloodpressure'])\n",
    "            prediction = classifier.predict(input_data)\n",
    "\n",
    "            # Output the prediction result\n",
    "            if prediction[0] == 1:\n",
    "                print(\"Prediction: Diabetes detected\")\n",
    "            else:\n",
    "                print(\"Prediction: No diabetes detected\")\n",
    "\n",
    "        except ValueError:\n",
    "            print(\"Please enter valid numeric values for glucose and blood pressure.\")\n",
    "\n",
    "except ValueError:\n",
    "    print(\"Please enter a valid integer for the number of predictions.\")"
   ]
  }
 ],
 "metadata": {
  "kernelspec": {
   "display_name": "Python 3",
   "language": "python",
   "name": "python3"
  },
  "language_info": {
   "codemirror_mode": {
    "name": "ipython",
    "version": 3
   },
   "file_extension": ".py",
   "mimetype": "text/x-python",
   "name": "python",
   "nbconvert_exporter": "python",
   "pygments_lexer": "ipython3",
   "version": "3.9.6"
  }
 },
 "nbformat": 4,
 "nbformat_minor": 2
}
